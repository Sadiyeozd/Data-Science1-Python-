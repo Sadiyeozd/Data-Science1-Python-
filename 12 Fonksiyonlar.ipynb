{
 "cells": [
  {
   "cell_type": "code",
   "execution_count": 1,
   "id": "c708f193",
   "metadata": {},
   "outputs": [],
   "source": [
    "def fonksiyon(isim=\"dddd\"):\n",
    "    print(\"mrb\")\n",
    "    print(isim)\n",
    "    "
   ]
  },
  {
   "cell_type": "code",
   "execution_count": 2,
   "id": "f1d5a2fd",
   "metadata": {},
   "outputs": [
    {
     "name": "stdout",
     "output_type": "stream",
     "text": [
      "mrb\n",
      "dddd\n"
     ]
    }
   ],
   "source": [
    "fonksiyon()"
   ]
  },
  {
   "cell_type": "code",
   "execution_count": 3,
   "id": "4c73dea1",
   "metadata": {},
   "outputs": [
    {
     "name": "stdout",
     "output_type": "stream",
     "text": [
      "mrb\n",
      "ben\n"
     ]
    }
   ],
   "source": [
    "fonksiyon(\"ben\")"
   ]
  },
  {
   "cell_type": "markdown",
   "id": "316a03ed",
   "metadata": {},
   "source": [
    "##args & kwargs args sayısız arguman olabilir\n",
    "return dersek args type tuple olur\n",
    "6. blokta return type dersek dictionary olur"
   ]
  },
  {
   "cell_type": "code",
   "execution_count": 4,
   "id": "b2c20da4",
   "metadata": {},
   "outputs": [],
   "source": [
    "def toplam(*args):\n",
    "    return sum(args)"
   ]
  },
  {
   "cell_type": "code",
   "execution_count": 5,
   "id": "f5549c4a",
   "metadata": {},
   "outputs": [
    {
     "data": {
      "text/plain": [
       "6"
      ]
     },
     "execution_count": 5,
     "metadata": {},
     "output_type": "execute_result"
    }
   ],
   "source": [
    "toplam(1,2,3)"
   ]
  },
  {
   "cell_type": "code",
   "execution_count": 6,
   "id": "7880421c",
   "metadata": {},
   "outputs": [],
   "source": [
    "def fonk(**kwargs):\n",
    "    return(kwargs)"
   ]
  },
  {
   "cell_type": "code",
   "execution_count": null,
   "id": "73793557",
   "metadata": {},
   "outputs": [],
   "source": []
  }
 ],
 "metadata": {
  "kernelspec": {
   "display_name": "Python 3",
   "language": "python",
   "name": "python3"
  },
  "language_info": {
   "codemirror_mode": {
    "name": "ipython",
    "version": 3
   },
   "file_extension": ".py",
   "mimetype": "text/x-python",
   "name": "python",
   "nbconvert_exporter": "python",
   "pygments_lexer": "ipython3",
   "version": "3.8.8"
  }
 },
 "nbformat": 4,
 "nbformat_minor": 5
}
