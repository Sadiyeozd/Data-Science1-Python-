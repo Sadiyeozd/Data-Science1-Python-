{
 "cells": [
  {
   "cell_type": "markdown",
   "id": "620fefea",
   "metadata": {},
   "source": [
    "değiştirilemezlik özelliği"
   ]
  },
  {
   "cell_type": "code",
   "execution_count": 1,
   "id": "cbb241aa",
   "metadata": {},
   "outputs": [],
   "source": [
    "benimtuple=(\"s\",2,3,4.7)"
   ]
  },
  {
   "cell_type": "code",
   "execution_count": null,
   "id": "da5b6d09",
   "metadata": {},
   "outputs": [],
   "source": []
  }
 ],
 "metadata": {
  "kernelspec": {
   "display_name": "Python 3",
   "language": "python",
   "name": "python3"
  },
  "language_info": {
   "codemirror_mode": {
    "name": "ipython",
    "version": 3
   },
   "file_extension": ".py",
   "mimetype": "text/x-python",
   "name": "python",
   "nbconvert_exporter": "python",
   "pygments_lexer": "ipython3",
   "version": "3.8.8"
  }
 },
 "nbformat": 4,
 "nbformat_minor": 5
}
