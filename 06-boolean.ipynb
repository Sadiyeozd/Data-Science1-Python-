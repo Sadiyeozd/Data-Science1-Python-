{
 "cells": [
  {
   "cell_type": "code",
   "execution_count": 1,
   "id": "6a746bfc",
   "metadata": {},
   "outputs": [],
   "source": [
    "benmboolean=True"
   ]
  },
  {
   "cell_type": "code",
   "execution_count": 2,
   "id": "21093b0a",
   "metadata": {},
   "outputs": [],
   "source": [
    "listem=[100,255,400]"
   ]
  },
  {
   "cell_type": "code",
   "execution_count": 3,
   "id": "4356e1c7",
   "metadata": {},
   "outputs": [
    {
     "data": {
      "text/plain": [
       "755"
      ]
     },
     "execution_count": 3,
     "metadata": {},
     "output_type": "execute_result"
    }
   ],
   "source": [
    "sum(listem)"
   ]
  },
  {
   "cell_type": "code",
   "execution_count": 4,
   "id": "84d2feea",
   "metadata": {},
   "outputs": [],
   "source": [
    "avr=sum(listem)/3"
   ]
  },
  {
   "cell_type": "code",
   "execution_count": 5,
   "id": "86955cd3",
   "metadata": {},
   "outputs": [
    {
     "data": {
      "text/plain": [
       "251.66666666666666"
      ]
     },
     "execution_count": 5,
     "metadata": {},
     "output_type": "execute_result"
    }
   ],
   "source": [
    "avr"
   ]
  },
  {
   "cell_type": "code",
   "execution_count": 6,
   "id": "3e3ee6a1",
   "metadata": {},
   "outputs": [],
   "source": [
    "x=10\n",
    "y=10"
   ]
  },
  {
   "cell_type": "code",
   "execution_count": 7,
   "id": "3fa42d2a",
   "metadata": {},
   "outputs": [
    {
     "data": {
      "text/plain": [
       "True"
      ]
     },
     "execution_count": 7,
     "metadata": {},
     "output_type": "execute_result"
    }
   ],
   "source": [
    "x==y"
   ]
  },
  {
   "cell_type": "code",
   "execution_count": null,
   "id": "15af1283",
   "metadata": {},
   "outputs": [],
   "source": []
  }
 ],
 "metadata": {
  "kernelspec": {
   "display_name": "Python 3",
   "language": "python",
   "name": "python3"
  },
  "language_info": {
   "codemirror_mode": {
    "name": "ipython",
    "version": 3
   },
   "file_extension": ".py",
   "mimetype": "text/x-python",
   "name": "python",
   "nbconvert_exporter": "python",
   "pygments_lexer": "ipython3",
   "version": "3.8.8"
  }
 },
 "nbformat": 4,
 "nbformat_minor": 5
}
