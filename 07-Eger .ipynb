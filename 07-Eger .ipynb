{
 "cells": [
  {
   "cell_type": "code",
   "execution_count": 1,
   "id": "530b8a72",
   "metadata": {},
   "outputs": [
    {
     "name": "stdout",
     "output_type": "stream",
     "text": [
      "kahraman seçinizs\n"
     ]
    }
   ],
   "source": [
    "kahraman=input(\"kahraman seçiniz\")"
   ]
  },
  {
   "cell_type": "code",
   "execution_count": 2,
   "id": "1183ea72",
   "metadata": {},
   "outputs": [
    {
     "name": "stdout",
     "output_type": "stream",
     "text": [
      "s sectin\n"
     ]
    }
   ],
   "source": [
    "if kahraman==\"s\":\n",
    "    print(\"s sectin\")\n",
    "elif kahraman==\"d\":\n",
    "    print(\"d\")"
   ]
  },
  {
   "cell_type": "code",
   "execution_count": 4,
   "id": "ba7a9254",
   "metadata": {},
   "outputs": [],
   "source": [
    "karakter=True"
   ]
  },
  {
   "cell_type": "code",
   "execution_count": 5,
   "id": "7548dabf",
   "metadata": {},
   "outputs": [
    {
     "name": "stdout",
     "output_type": "stream",
     "text": [
      "canlı\n"
     ]
    }
   ],
   "source": [
    "if karakter==True:\n",
    "    print(\"canlı\")\n",
    "else:\n",
    "    print(\"cansız\")"
   ]
  },
  {
   "cell_type": "code",
   "execution_count": 8,
   "id": "ca0cdeaf",
   "metadata": {},
   "outputs": [],
   "source": [
    "string=\"sadiye oz\""
   ]
  },
  {
   "cell_type": "code",
   "execution_count": 11,
   "id": "d1e51d18",
   "metadata": {},
   "outputs": [
    {
     "name": "stdout",
     "output_type": "stream",
     "text": [
      "var\n"
     ]
    }
   ],
   "source": [
    "if \" oz\" in string:\n",
    "    print(\"var\")\n",
    "else:\n",
    "    print(\"yok\")"
   ]
  },
  {
   "cell_type": "code",
   "execution_count": 12,
   "id": "a027c1a8",
   "metadata": {},
   "outputs": [],
   "source": [
    "lists=[1,2,3,4,5]"
   ]
  },
  {
   "cell_type": "code",
   "execution_count": 13,
   "id": "e964f11d",
   "metadata": {},
   "outputs": [
    {
     "name": "stdout",
     "output_type": "stream",
     "text": [
      "var\n"
     ]
    }
   ],
   "source": [
    "if 2 in lists:\n",
    "    print(\"var\")"
   ]
  },
  {
   "cell_type": "code",
   "execution_count": 16,
   "id": "fe77b641",
   "metadata": {},
   "outputs": [],
   "source": [
    "sozluk={\"muz\":100,\"elma\":299}"
   ]
  },
  {
   "cell_type": "code",
   "execution_count": 20,
   "id": "e4ede8ce",
   "metadata": {},
   "outputs": [
    {
     "name": "stdout",
     "output_type": "stream",
     "text": [
      "var\n"
     ]
    }
   ],
   "source": [
    "if \"muz\" in sozluk.keys():\n",
    "    print(\"var\")"
   ]
  },
  {
   "cell_type": "code",
   "execution_count": 21,
   "id": "17b774ba",
   "metadata": {},
   "outputs": [
    {
     "name": "stdout",
     "output_type": "stream",
     "text": [
      "var\n"
     ]
    }
   ],
   "source": [
    "if 100 in sozluk.values():\n",
    "    print(\"var\")"
   ]
  },
  {
   "cell_type": "code",
   "execution_count": null,
   "id": "c4663ce9",
   "metadata": {},
   "outputs": [],
   "source": []
  }
 ],
 "metadata": {
  "kernelspec": {
   "display_name": "Python 3",
   "language": "python",
   "name": "python3"
  },
  "language_info": {
   "codemirror_mode": {
    "name": "ipython",
    "version": 3
   },
   "file_extension": ".py",
   "mimetype": "text/x-python",
   "name": "python",
   "nbconvert_exporter": "python",
   "pygments_lexer": "ipython3",
   "version": "3.8.8"
  }
 },
 "nbformat": 4,
 "nbformat_minor": 5
}
