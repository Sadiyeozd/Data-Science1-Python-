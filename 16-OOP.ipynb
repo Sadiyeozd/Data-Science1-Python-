{
 "cells": [
  {
   "cell_type": "raw",
   "id": "7e82ac33",
   "metadata": {},
   "source": [
    "instance& attribute"
   ]
  },
  {
   "cell_type": "markdown",
   "id": "96517c42",
   "metadata": {},
   "source": [
    "# instance& attribute\n"
   ]
  },
  {
   "cell_type": "code",
   "execution_count": 4,
   "id": "4f704835",
   "metadata": {},
   "outputs": [],
   "source": [
    "class SuperKahraman():\n",
    "    def __init__(self,isim,yas,meslek):#başlatma fonks python a ait self sinifin kendisine referans verir\n",
    "        print(\"init\")\n",
    "        self.isim = isim\n",
    "        self.yas = yas\n",
    "        self.meslek= meslek\n",
    "    def ornekmethod():\n",
    "        print"
   ]
  },
  {
   "cell_type": "code",
   "execution_count": 6,
   "id": "b0e0214f",
   "metadata": {},
   "outputs": [
    {
     "name": "stdout",
     "output_type": "stream",
     "text": [
      "init\n"
     ]
    }
   ],
   "source": [
    "superwomen=SuperKahraman(\"sa\",2,\"mühendis\")"
   ]
  },
  {
   "cell_type": "code",
   "execution_count": null,
   "id": "e1dd25bd",
   "metadata": {},
   "outputs": [],
   "source": []
  }
 ],
 "metadata": {
  "kernelspec": {
   "display_name": "Python 3",
   "language": "python",
   "name": "python3"
  },
  "language_info": {
   "codemirror_mode": {
    "name": "ipython",
    "version": 3
   },
   "file_extension": ".py",
   "mimetype": "text/x-python",
   "name": "python",
   "nbconvert_exporter": "python",
   "pygments_lexer": "ipython3",
   "version": "3.8.8"
  }
 },
 "nbformat": 4,
 "nbformat_minor": 5
}
