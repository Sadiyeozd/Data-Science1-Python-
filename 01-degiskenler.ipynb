{
 "cells": [
  {
   "cell_type": "code",
   "execution_count": 10,
   "id": "7080aa68",
   "metadata": {},
   "outputs": [],
   "source": [
    "b='ffff'"
   ]
  },
  {
   "cell_type": "code",
   "execution_count": 3,
   "id": "384c9928",
   "metadata": {},
   "outputs": [
    {
     "data": {
      "text/plain": [
       "str"
      ]
     },
     "execution_count": 3,
     "metadata": {},
     "output_type": "execute_result"
    }
   ],
   "source": [
    "type(b)"
   ]
  },
  {
   "cell_type": "code",
   "execution_count": 11,
   "id": "39e159fe",
   "metadata": {},
   "outputs": [
    {
     "ename": "ValueError",
     "evalue": "invalid literal for int() with base 10: 'ffff'",
     "output_type": "error",
     "traceback": [
      "\u001b[1;31m---------------------------------------------------------------------------\u001b[0m",
      "\u001b[1;31mValueError\u001b[0m                                Traceback (most recent call last)",
      "\u001b[1;32m<ipython-input-11-d3e55e1121e3>\u001b[0m in \u001b[0;36m<module>\u001b[1;34m\u001b[0m\n\u001b[1;32m----> 1\u001b[1;33m \u001b[0mben\u001b[0m\u001b[1;33m=\u001b[0m\u001b[0mint\u001b[0m\u001b[1;33m(\u001b[0m\u001b[0mb\u001b[0m\u001b[1;33m)\u001b[0m\u001b[1;33m\u001b[0m\u001b[1;33m\u001b[0m\u001b[0m\n\u001b[0m",
      "\u001b[1;31mValueError\u001b[0m: invalid literal for int() with base 10: 'ffff'"
     ]
    }
   ],
   "source": [
    "ben=int(b)\n"
   ]
  },
  {
   "cell_type": "code",
   "execution_count": 8,
   "id": "b56f4466",
   "metadata": {},
   "outputs": [],
   "source": [
    "isimString=\"Sadiye\""
   ]
  },
  {
   "cell_type": "code",
   "execution_count": 9,
   "id": "7fa0dca0",
   "metadata": {},
   "outputs": [
    {
     "data": {
      "text/plain": [
       "'Sadiye'"
      ]
     },
     "execution_count": 9,
     "metadata": {},
     "output_type": "execute_result"
    }
   ],
   "source": [
    "isimString"
   ]
  },
  {
   "cell_type": "markdown",
   "id": "cc70c3b4",
   "metadata": {},
   "source": [
    "Index Slicing(kesme)"
   ]
  },
  {
   "cell_type": "code",
   "execution_count": 12,
   "id": "622383b5",
   "metadata": {},
   "outputs": [],
   "source": [
    "yenistring=\"0123456789\""
   ]
  },
  {
   "cell_type": "code",
   "execution_count": 13,
   "id": "29e79ca3",
   "metadata": {},
   "outputs": [
    {
     "data": {
      "text/plain": [
       "'23456789'"
      ]
     },
     "execution_count": 13,
     "metadata": {},
     "output_type": "execute_result"
    }
   ],
   "source": [
    "yenistring[2:]"
   ]
  },
  {
   "cell_type": "code",
   "execution_count": 14,
   "id": "eb17de77",
   "metadata": {},
   "outputs": [
    {
     "data": {
      "text/plain": [
       "'012'"
      ]
     },
     "execution_count": 14,
     "metadata": {},
     "output_type": "execute_result"
    }
   ],
   "source": [
    "yenistring[:3]"
   ]
  },
  {
   "cell_type": "code",
   "execution_count": 16,
   "id": "4c802549",
   "metadata": {},
   "outputs": [
    {
     "data": {
      "text/plain": [
       "'89'"
      ]
     },
     "execution_count": 16,
     "metadata": {},
     "output_type": "execute_result"
    }
   ],
   "source": [
    "yenistring[-2:]"
   ]
  },
  {
   "cell_type": "code",
   "execution_count": 17,
   "id": "7347a31c",
   "metadata": {},
   "outputs": [
    {
     "data": {
      "text/plain": [
       "'23'"
      ]
     },
     "execution_count": 17,
     "metadata": {},
     "output_type": "execute_result"
    }
   ],
   "source": [
    "yenistring[2:4]"
   ]
  },
  {
   "cell_type": "markdown",
   "id": "1d2bbb5f",
   "metadata": {},
   "source": [
    "#Stepsize"
   ]
  },
  {
   "cell_type": "code",
   "execution_count": 18,
   "id": "12ef58fb",
   "metadata": {},
   "outputs": [
    {
     "data": {
      "text/plain": [
       "'0369'"
      ]
     },
     "execution_count": 18,
     "metadata": {},
     "output_type": "execute_result"
    }
   ],
   "source": [
    "yenistring[: : 3]"
   ]
  },
  {
   "cell_type": "code",
   "execution_count": 19,
   "id": "c738ab6f",
   "metadata": {},
   "outputs": [],
   "source": [
    "isim=\"Sadiye\""
   ]
  },
  {
   "cell_type": "code",
   "execution_count": 20,
   "id": "c7176a5e",
   "metadata": {},
   "outputs": [
    {
     "data": {
      "text/plain": [
       "'SADIYE'"
      ]
     },
     "execution_count": 20,
     "metadata": {},
     "output_type": "execute_result"
    }
   ],
   "source": [
    "isim.upper()"
   ]
  },
  {
   "cell_type": "code",
   "execution_count": null,
   "id": "86b8177c",
   "metadata": {},
   "outputs": [],
   "source": []
  }
 ],
 "metadata": {
  "kernelspec": {
   "display_name": "Python 3",
   "language": "python",
   "name": "python3"
  },
  "language_info": {
   "codemirror_mode": {
    "name": "ipython",
    "version": 3
   },
   "file_extension": ".py",
   "mimetype": "text/x-python",
   "name": "python",
   "nbconvert_exporter": "python",
   "pygments_lexer": "ipython3",
   "version": "3.8.8"
  }
 },
 "nbformat": 4,
 "nbformat_minor": 5
}
