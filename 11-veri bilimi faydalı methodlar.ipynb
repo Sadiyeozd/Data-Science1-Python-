{
 "cells": [
  {
   "cell_type": "markdown",
   "id": "454f8487",
   "metadata": {},
   "source": [
    "Range"
   ]
  },
  {
   "cell_type": "raw",
   "id": "0dbcd1a2",
   "metadata": {},
   "source": [
    "range\n"
   ]
  },
  {
   "cell_type": "code",
   "execution_count": 1,
   "id": "7dfff12f",
   "metadata": {},
   "outputs": [],
   "source": [
    "listem=[1,23,4,5,6,7,8,8]"
   ]
  },
  {
   "cell_type": "code",
   "execution_count": 2,
   "id": "d27f220a",
   "metadata": {},
   "outputs": [
    {
     "data": {
      "text/plain": [
       "[5, 9, 13, 17, 21]"
      ]
     },
     "execution_count": 2,
     "metadata": {},
     "output_type": "execute_result"
    }
   ],
   "source": [
    "list(range(5,22,4))"
   ]
  },
  {
   "cell_type": "markdown",
   "id": "5eccfe03",
   "metadata": {},
   "source": [
    "enumerate"
   ]
  },
  {
   "cell_type": "code",
   "execution_count": 4,
   "id": "9bd5ed81",
   "metadata": {},
   "outputs": [
    {
     "name": "stdout",
     "output_type": "stream",
     "text": [
      " güncel no: 5 güncel index:0\n",
      " güncel no: 6 güncel index:1\n",
      " güncel no: 7 güncel index:2\n",
      " güncel no: 8 güncel index:3\n",
      " güncel no: 9 güncel index:4\n",
      " güncel no: 10 güncel index:5\n",
      " güncel no: 11 güncel index:6\n",
      " güncel no: 12 güncel index:7\n",
      " güncel no: 13 güncel index:8\n",
      " güncel no: 14 güncel index:9\n"
     ]
    }
   ],
   "source": [
    "index=0\n",
    "for numara in list(range(5,15)):\n",
    "    print(f\" güncel no: {numara} güncel index:{index}\")\n",
    "    index=index+1"
   ]
  },
  {
   "cell_type": "code",
   "execution_count": 7,
   "id": "7ea11ac5",
   "metadata": {},
   "outputs": [
    {
     "name": "stdout",
     "output_type": "stream",
     "text": [
      "(0, 5)\n",
      "(1, 6)\n",
      "(2, 7)\n",
      "(3, 8)\n",
      "(4, 9)\n",
      "(5, 10)\n",
      "(6, 11)\n",
      "(7, 12)\n",
      "(8, 13)\n",
      "(9, 14)\n"
     ]
    }
   ],
   "source": [
    "for numara in enumerate(list(range(5,15))):\n",
    "    print(numara)"
   ]
  },
  {
   "cell_type": "markdown",
   "id": "ecdca4e7",
   "metadata": {},
   "source": [
    "# random"
   ]
  },
  {
   "cell_type": "code",
   "execution_count": 8,
   "id": "398041d9",
   "metadata": {},
   "outputs": [],
   "source": [
    "from random import randint"
   ]
  },
  {
   "cell_type": "code",
   "execution_count": 9,
   "id": "35a4bd2f",
   "metadata": {},
   "outputs": [],
   "source": [
    "liste=list(range(0,10))"
   ]
  },
  {
   "cell_type": "code",
   "execution_count": 10,
   "id": "d8c532e1",
   "metadata": {},
   "outputs": [
    {
     "data": {
      "text/plain": [
       "[0, 1, 2, 3, 4, 5, 6, 7, 8, 9]"
      ]
     },
     "execution_count": 10,
     "metadata": {},
     "output_type": "execute_result"
    }
   ],
   "source": [
    "liste"
   ]
  },
  {
   "cell_type": "code",
   "execution_count": 11,
   "id": "d29d4db4",
   "metadata": {},
   "outputs": [],
   "source": [
    "from random import shuffle"
   ]
  },
  {
   "cell_type": "code",
   "execution_count": 12,
   "id": "b5d989b1",
   "metadata": {},
   "outputs": [],
   "source": [
    "shuffle(listem)"
   ]
  },
  {
   "cell_type": "code",
   "execution_count": 13,
   "id": "07f4f77f",
   "metadata": {},
   "outputs": [
    {
     "data": {
      "text/plain": [
       "[4, 8, 23, 7, 8, 1, 5, 6]"
      ]
     },
     "execution_count": 13,
     "metadata": {},
     "output_type": "execute_result"
    }
   ],
   "source": [
    "listem"
   ]
  },
  {
   "cell_type": "markdown",
   "id": "e9e2e288",
   "metadata": {},
   "source": [
    "# ZİP\n"
   ]
  },
  {
   "cell_type": "code",
   "execution_count": 14,
   "id": "2f642abf",
   "metadata": {},
   "outputs": [],
   "source": [
    "yemeklistesi=[\"muz\",\"elma\",\"ananas\"]\n",
    "kalori=[1,2,3]\n",
    "gun=[\"p\",\"s\",\"ç\"]"
   ]
  },
  {
   "cell_type": "code",
   "execution_count": 17,
   "id": "8affc1a3",
   "metadata": {},
   "outputs": [],
   "source": [
    "listem=list(zip(yemeklistesi,kalori,gun))"
   ]
  },
  {
   "cell_type": "code",
   "execution_count": 18,
   "id": "667c74a2",
   "metadata": {},
   "outputs": [
    {
     "name": "stdout",
     "output_type": "stream",
     "text": [
      "<class 'tuple'>\n",
      "<class 'tuple'>\n",
      "<class 'tuple'>\n"
     ]
    }
   ],
   "source": [
    "for eleman in listem:\n",
    "    print(type(eleman))"
   ]
  },
  {
   "cell_type": "code",
   "execution_count": null,
   "id": "9354f4c8",
   "metadata": {},
   "outputs": [],
   "source": []
  }
 ],
 "metadata": {
  "kernelspec": {
   "display_name": "Python 3",
   "language": "python",
   "name": "python3"
  },
  "language_info": {
   "codemirror_mode": {
    "name": "ipython",
    "version": 3
   },
   "file_extension": ".py",
   "mimetype": "text/x-python",
   "name": "python",
   "nbconvert_exporter": "python",
   "pygments_lexer": "ipython3",
   "version": "3.8.8"
  }
 },
 "nbformat": 4,
 "nbformat_minor": 5
}
