{
 "cells": [
  {
   "cell_type": "code",
   "execution_count": 1,
   "id": "1328f3dc",
   "metadata": {},
   "outputs": [],
   "source": [
    "def bölme(numara):\n",
    "    return numara/2"
   ]
  },
  {
   "cell_type": "code",
   "execution_count": 2,
   "id": "8c665b07",
   "metadata": {},
   "outputs": [],
   "source": [
    "listem=[1,2,3,4,5,6,7,8,9,10]"
   ]
  },
  {
   "cell_type": "code",
   "execution_count": 4,
   "id": "8ab96880",
   "metadata": {},
   "outputs": [],
   "source": [
    "yeniliste=[]\n",
    "for elm in listem:\n",
    "    yeniliste.append(bölme(elm))"
   ]
  },
  {
   "cell_type": "code",
   "execution_count": 5,
   "id": "b0b3b587",
   "metadata": {},
   "outputs": [
    {
     "data": {
      "text/plain": [
       "[0.5, 1.0, 1.5, 2.0, 2.5, 3.0, 3.5, 4.0, 4.5, 5.0]"
      ]
     },
     "execution_count": 5,
     "metadata": {},
     "output_type": "execute_result"
    }
   ],
   "source": [
    "yeniliste"
   ]
  },
  {
   "cell_type": "markdown",
   "id": "4c746c81",
   "metadata": {},
   "source": [
    "#map"
   ]
  },
  {
   "cell_type": "code",
   "execution_count": 7,
   "id": "cd82c5ac",
   "metadata": {},
   "outputs": [
    {
     "data": {
      "text/plain": [
       "[0.5, 1.0, 1.5, 2.0, 2.5, 3.0, 3.5, 4.0, 4.5, 5.0]"
      ]
     },
     "execution_count": 7,
     "metadata": {},
     "output_type": "execute_result"
    }
   ],
   "source": [
    "list(map(bölme,listem))"
   ]
  },
  {
   "cell_type": "code",
   "execution_count": 8,
   "id": "656280f2",
   "metadata": {},
   "outputs": [],
   "source": [
    "def kontrol(string):\n",
    "    return \"a\" in string"
   ]
  },
  {
   "cell_type": "code",
   "execution_count": 9,
   "id": "6cf1df88",
   "metadata": {},
   "outputs": [
    {
     "data": {
      "text/plain": [
       "True"
      ]
     },
     "execution_count": 9,
     "metadata": {},
     "output_type": "execute_result"
    }
   ],
   "source": [
    "\"a\" in \"sad\""
   ]
  },
  {
   "cell_type": "code",
   "execution_count": 10,
   "id": "45d55346",
   "metadata": {},
   "outputs": [
    {
     "data": {
      "text/plain": [
       "True"
      ]
     },
     "execution_count": 10,
     "metadata": {},
     "output_type": "execute_result"
    }
   ],
   "source": [
    "kontrol(\"sadiye\")# sadiiye de a var true donderdi"
   ]
  },
  {
   "cell_type": "code",
   "execution_count": 11,
   "id": "eb060c69",
   "metadata": {},
   "outputs": [],
   "source": [
    "strlist=[\"a\",\"bb\",\"adf\",\"ab1234\"]"
   ]
  },
  {
   "cell_type": "code",
   "execution_count": 12,
   "id": "bd89b941",
   "metadata": {},
   "outputs": [
    {
     "data": {
      "text/plain": [
       "[True, False, True, True]"
      ]
     },
     "execution_count": 12,
     "metadata": {},
     "output_type": "execute_result"
    }
   ],
   "source": [
    "list(map(kontrol,strlist))#listedeki tek tek elemanlara baktı a varsa true"
   ]
  },
  {
   "cell_type": "markdown",
   "id": "f955e1a9",
   "metadata": {},
   "source": [
    "##filter\n",
    "sadece true olanları donderir"
   ]
  },
  {
   "cell_type": "code",
   "execution_count": 13,
   "id": "fe92e11e",
   "metadata": {},
   "outputs": [
    {
     "data": {
      "text/plain": [
       "['a', 'adf', 'ab1234']"
      ]
     },
     "execution_count": 13,
     "metadata": {},
     "output_type": "execute_result"
    }
   ],
   "source": [
    "list(filter(kontrol,strlist))"
   ]
  },
  {
   "cell_type": "markdown",
   "id": "0cee4367",
   "metadata": {},
   "source": [
    "#lambda\n"
   ]
  },
  {
   "cell_type": "code",
   "execution_count": null,
   "id": "351efa91",
   "metadata": {},
   "outputs": [],
   "source": [
    "crp=şambda numara: numara*3"
   ]
  }
 ],
 "metadata": {
  "kernelspec": {
   "display_name": "Python 3",
   "language": "python",
   "name": "python3"
  },
  "language_info": {
   "codemirror_mode": {
    "name": "ipython",
    "version": 3
   },
   "file_extension": ".py",
   "mimetype": "text/x-python",
   "name": "python",
   "nbconvert_exporter": "python",
   "pygments_lexer": "ipython3",
   "version": "3.8.8"
  }
 },
 "nbformat": 4,
 "nbformat_minor": 5
}
