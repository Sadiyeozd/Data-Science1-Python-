{
 "cells": [
  {
   "cell_type": "markdown",
   "id": "e284a0fd",
   "metadata": {},
   "source": [
    "key-value pairing(anahtar kelime-deger)"
   ]
  },
  {
   "cell_type": "code",
   "execution_count": 10,
   "id": "cb28977a",
   "metadata": {},
   "outputs": [],
   "source": [
    "cooks={\"elma\" : \"karpuz\"}"
   ]
  },
  {
   "cell_type": "code",
   "execution_count": 12,
   "id": "88b4757b",
   "metadata": {},
   "outputs": [
    {
     "data": {
      "text/plain": [
       "'karpuz'"
      ]
     },
     "execution_count": 12,
     "metadata": {},
     "output_type": "execute_result"
    }
   ],
   "source": [
    "cooks[\"elma\"]"
   ]
  },
  {
   "cell_type": "code",
   "execution_count": 13,
   "id": "499a9d4b",
   "metadata": {},
   "outputs": [],
   "source": [
    "cooks[\"elma\"]=200"
   ]
  },
  {
   "cell_type": "code",
   "execution_count": 14,
   "id": "c65ed795",
   "metadata": {},
   "outputs": [
    {
     "data": {
      "text/plain": [
       "200"
      ]
     },
     "execution_count": 14,
     "metadata": {},
     "output_type": "execute_result"
    }
   ],
   "source": [
    "cooks[\"elma\"]"
   ]
  },
  {
   "cell_type": "code",
   "execution_count": null,
   "id": "6a4dd68f",
   "metadata": {},
   "outputs": [],
   "source": []
  }
 ],
 "metadata": {
  "kernelspec": {
   "display_name": "Python 3",
   "language": "python",
   "name": "python3"
  },
  "language_info": {
   "codemirror_mode": {
    "name": "ipython",
    "version": 3
   },
   "file_extension": ".py",
   "mimetype": "text/x-python",
   "name": "python",
   "nbconvert_exporter": "python",
   "pygments_lexer": "ipython3",
   "version": "3.8.8"
  }
 },
 "nbformat": 4,
 "nbformat_minor": 5
}
