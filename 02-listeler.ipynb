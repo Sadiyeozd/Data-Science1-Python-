{
 "cells": [
  {
   "cell_type": "code",
   "execution_count": 1,
   "id": "38b62fa1",
   "metadata": {},
   "outputs": [],
   "source": [
    "name=\"sadiye\""
   ]
  },
  {
   "cell_type": "markdown",
   "id": "4d5a3ac2",
   "metadata": {},
   "source": [
    "immutability/mutable"
   ]
  },
  {
   "cell_type": "code",
   "execution_count": 2,
   "id": "77dcf3ab",
   "metadata": {},
   "outputs": [],
   "source": [
    "lists=[10,20,30]"
   ]
  },
  {
   "cell_type": "code",
   "execution_count": 3,
   "id": "87cc9bd6",
   "metadata": {},
   "outputs": [
    {
     "data": {
      "text/plain": [
       "list"
      ]
     },
     "execution_count": 3,
     "metadata": {},
     "output_type": "execute_result"
    }
   ],
   "source": [
    "type(lists)"
   ]
  },
  {
   "cell_type": "code",
   "execution_count": 4,
   "id": "0c470384",
   "metadata": {},
   "outputs": [],
   "source": [
    "lists.append(50)"
   ]
  },
  {
   "cell_type": "code",
   "execution_count": 5,
   "id": "2a552d89",
   "metadata": {},
   "outputs": [
    {
     "data": {
      "text/plain": [
       "[10, 20, 30, 50]"
      ]
     },
     "execution_count": 5,
     "metadata": {},
     "output_type": "execute_result"
    }
   ],
   "source": [
    "lists"
   ]
  },
  {
   "cell_type": "code",
   "execution_count": 6,
   "id": "2cbd9b12",
   "metadata": {},
   "outputs": [
    {
     "data": {
      "text/plain": [
       "<function list.pop(index=-1, /)>"
      ]
     },
     "execution_count": 6,
     "metadata": {},
     "output_type": "execute_result"
    }
   ],
   "source": [
    "lists.pop"
   ]
  },
  {
   "cell_type": "code",
   "execution_count": 7,
   "id": "d3904085",
   "metadata": {},
   "outputs": [
    {
     "data": {
      "text/plain": [
       "[10, 20, 30, 50]"
      ]
     },
     "execution_count": 7,
     "metadata": {},
     "output_type": "execute_result"
    }
   ],
   "source": [
    "lists"
   ]
  },
  {
   "cell_type": "code",
   "execution_count": 8,
   "id": "9002c637",
   "metadata": {},
   "outputs": [
    {
     "data": {
      "text/plain": [
       "50"
      ]
     },
     "execution_count": 8,
     "metadata": {},
     "output_type": "execute_result"
    }
   ],
   "source": [
    "lists.pop()"
   ]
  },
  {
   "cell_type": "code",
   "execution_count": 9,
   "id": "5364353d",
   "metadata": {},
   "outputs": [
    {
     "data": {
      "text/plain": [
       "[10, 20, 30]"
      ]
     },
     "execution_count": 9,
     "metadata": {},
     "output_type": "execute_result"
    }
   ],
   "source": [
    "lists"
   ]
  },
  {
   "cell_type": "code",
   "execution_count": 10,
   "id": "0a70d270",
   "metadata": {},
   "outputs": [],
   "source": [
    "liststring=[\"a\",\"b\",\"f\"]"
   ]
  },
  {
   "cell_type": "code",
   "execution_count": 11,
   "id": "7f570ad1",
   "metadata": {},
   "outputs": [],
   "source": [
    "toplam=liststring*3"
   ]
  },
  {
   "cell_type": "code",
   "execution_count": 12,
   "id": "96263986",
   "metadata": {},
   "outputs": [
    {
     "data": {
      "text/plain": [
       "['a', 'b', 'f', 'a', 'b', 'f', 'a', 'b', 'f']"
      ]
     },
     "execution_count": 12,
     "metadata": {},
     "output_type": "execute_result"
    }
   ],
   "source": [
    "toplam"
   ]
  },
  {
   "cell_type": "code",
   "execution_count": 14,
   "id": "5cd46b8f",
   "metadata": {},
   "outputs": [],
   "source": [
    "listsmix=[1,2.3,\"string\"]"
   ]
  },
  {
   "cell_type": "code",
   "execution_count": 20,
   "id": "fbea31b7",
   "metadata": {},
   "outputs": [],
   "source": [
    "nestedlist=[1,4,\"a\",[2,4,\"z\"]]"
   ]
  },
  {
   "cell_type": "code",
   "execution_count": 16,
   "id": "dd938f72",
   "metadata": {},
   "outputs": [
    {
     "name": "stderr",
     "output_type": "stream",
     "text": [
      "<>:1: SyntaxWarning: 'int' object is not subscriptable; perhaps you missed a comma?\n",
      "<>:1: SyntaxWarning: 'int' object is not subscriptable; perhaps you missed a comma?\n",
      "<ipython-input-16-7958109d143d>:1: SyntaxWarning: 'int' object is not subscriptable; perhaps you missed a comma?\n",
      "  z=nestedlist[3[2]]\n"
     ]
    },
    {
     "ename": "TypeError",
     "evalue": "'int' object is not subscriptable",
     "output_type": "error",
     "traceback": [
      "\u001b[1;31m---------------------------------------------------------------------------\u001b[0m",
      "\u001b[1;31mTypeError\u001b[0m                                 Traceback (most recent call last)",
      "\u001b[1;32m<ipython-input-16-7958109d143d>\u001b[0m in \u001b[0;36m<module>\u001b[1;34m\u001b[0m\n\u001b[1;32m----> 1\u001b[1;33m \u001b[0mz\u001b[0m\u001b[1;33m=\u001b[0m\u001b[0mnestedlist\u001b[0m\u001b[1;33m[\u001b[0m\u001b[1;36m3\u001b[0m\u001b[1;33m[\u001b[0m\u001b[1;36m2\u001b[0m\u001b[1;33m]\u001b[0m\u001b[1;33m]\u001b[0m\u001b[1;33m\u001b[0m\u001b[1;33m\u001b[0m\u001b[0m\n\u001b[0m",
      "\u001b[1;31mTypeError\u001b[0m: 'int' object is not subscriptable"
     ]
    }
   ],
   "source": [
    "z=nestedlist[3[2]]"
   ]
  },
  {
   "cell_type": "code",
   "execution_count": 26,
   "id": "5a0b1ba9",
   "metadata": {},
   "outputs": [],
   "source": [
    "z=nestedlist[3][2]\n"
   ]
  },
  {
   "cell_type": "code",
   "execution_count": 27,
   "id": "936719b1",
   "metadata": {},
   "outputs": [
    {
     "data": {
      "text/plain": [
       "'z'"
      ]
     },
     "execution_count": 27,
     "metadata": {},
     "output_type": "execute_result"
    }
   ],
   "source": [
    "z"
   ]
  },
  {
   "cell_type": "code",
   "execution_count": null,
   "id": "63466d37",
   "metadata": {},
   "outputs": [],
   "source": []
  }
 ],
 "metadata": {
  "kernelspec": {
   "display_name": "Python 3",
   "language": "python",
   "name": "python3"
  },
  "language_info": {
   "codemirror_mode": {
    "name": "ipython",
    "version": 3
   },
   "file_extension": ".py",
   "mimetype": "text/x-python",
   "name": "python",
   "nbconvert_exporter": "python",
   "pygments_lexer": "ipython3",
   "version": "3.8.8"
  }
 },
 "nbformat": 4,
 "nbformat_minor": 5
}
