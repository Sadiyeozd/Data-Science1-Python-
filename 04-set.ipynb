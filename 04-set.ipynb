{
 "cells": [
  {
   "cell_type": "markdown",
   "id": "417aa57a",
   "metadata": {},
   "source": [
    "set 1 elaman sadece bir kere barınır"
   ]
  },
  {
   "cell_type": "code",
   "execution_count": 2,
   "id": "0c2d8afe",
   "metadata": {},
   "outputs": [],
   "source": [
    "listem=[1,2,3,3,3,3,3]"
   ]
  },
  {
   "cell_type": "code",
   "execution_count": 3,
   "id": "ed25324c",
   "metadata": {},
   "outputs": [],
   "source": [
    "setlistem=set(listem)"
   ]
  },
  {
   "cell_type": "code",
   "execution_count": 4,
   "id": "5a4e2b72",
   "metadata": {},
   "outputs": [
    {
     "data": {
      "text/plain": [
       "{1, 2, 3}"
      ]
     },
     "execution_count": 4,
     "metadata": {},
     "output_type": "execute_result"
    }
   ],
   "source": [
    "setlistem"
   ]
  },
  {
   "cell_type": "code",
   "execution_count": 5,
   "id": "769d4757",
   "metadata": {},
   "outputs": [],
   "source": [
    "setim={\"a\",\"g\",\"a\"}"
   ]
  },
  {
   "cell_type": "code",
   "execution_count": 6,
   "id": "4e18b8ed",
   "metadata": {},
   "outputs": [
    {
     "data": {
      "text/plain": [
       "{'a', 'g'}"
      ]
     },
     "execution_count": 6,
     "metadata": {},
     "output_type": "execute_result"
    }
   ],
   "source": [
    "setim"
   ]
  },
  {
   "cell_type": "code",
   "execution_count": 7,
   "id": "f63bc1f2",
   "metadata": {},
   "outputs": [],
   "source": [
    "bosset={}"
   ]
  },
  {
   "cell_type": "code",
   "execution_count": 8,
   "id": "f64c56e9",
   "metadata": {},
   "outputs": [
    {
     "data": {
      "text/plain": [
       "dict"
      ]
     },
     "execution_count": 8,
     "metadata": {},
     "output_type": "execute_result"
    }
   ],
   "source": [
    "type(bosset)"
   ]
  },
  {
   "cell_type": "code",
   "execution_count": 9,
   "id": "8e3bfd2a",
   "metadata": {},
   "outputs": [],
   "source": [
    "bossetim=set()##dict değil set alsın diye set oldugunu tanımladık, list dict hepsı ıcın kullanılır"
   ]
  },
  {
   "cell_type": "code",
   "execution_count": null,
   "id": "b2be6d18",
   "metadata": {},
   "outputs": [],
   "source": []
  }
 ],
 "metadata": {
  "kernelspec": {
   "display_name": "Python 3",
   "language": "python",
   "name": "python3"
  },
  "language_info": {
   "codemirror_mode": {
    "name": "ipython",
    "version": 3
   },
   "file_extension": ".py",
   "mimetype": "text/x-python",
   "name": "python",
   "nbconvert_exporter": "python",
   "pygments_lexer": "ipython3",
   "version": "3.8.8"
  }
 },
 "nbformat": 4,
 "nbformat_minor": 5
}
